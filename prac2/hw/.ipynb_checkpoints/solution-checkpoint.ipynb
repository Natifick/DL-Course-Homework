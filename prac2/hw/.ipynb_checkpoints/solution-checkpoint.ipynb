{
 "cells": [
  {
   "cell_type": "markdown",
   "metadata": {
    "id": "YkkaE1V1m5i5"
   },
   "source": [
    "## Обучение многослойного перцептрона"
   ]
  },
  {
   "cell_type": "markdown",
   "metadata": {
    "id": "WWy-H8eCn2zm"
   },
   "source": [
    "Сам перцептрон"
   ]
  },
  {
   "cell_type": "code",
   "execution_count": 10,
   "metadata": {},
   "outputs": [],
   "source": [
    "import matplotlib.pyplot as plt\n",
    "import numpy as np\n",
    "\n",
    "from framework.nn import MLP"
   ]
  },
  {
   "cell_type": "code",
   "execution_count": 4,
   "metadata": {
    "colab": {
     "base_uri": "https://localhost:8080/"
    },
    "id": "3La6nRi4m920",
    "outputId": "aa871fdc-ce8b-4775-8214-914e96d5da95"
   },
   "outputs": [
    {
     "name": "stdout",
     "output_type": "stream",
     "text": [
      "MLP of [Layer of [ReLUNeuron(3), ReLUNeuron(3), ReLUNeuron(3), ReLUNeuron(3)]\n",
      "Layer of [ReLUNeuron(4), ReLUNeuron(4), ReLUNeuron(4), ReLUNeuron(4)]\n",
      "Layer of [LinearNeuron(4)]]\n",
      "number of parameters 41\n"
     ]
    }
   ],
   "source": [
    "model = MLP(3, [4, 4, 1])\n",
    "print(model)\n",
    "print(\"number of parameters\", len(model.parameters()))"
   ]
  },
  {
   "cell_type": "markdown",
   "metadata": {
    "id": "OvkZVOLcnvqu"
   },
   "source": [
    "Набор данных"
   ]
  },
  {
   "cell_type": "code",
   "execution_count": 5,
   "metadata": {
    "id": "aLJULsNanpVC"
   },
   "outputs": [],
   "source": [
    "xs = [\n",
    "  [2.0, 3.0, -1.0],\n",
    "  [3.0, -1.0, 0.5],\n",
    "  [0.5, 1.0, 1.0],\n",
    "  [1.0, 1.0, -1.0],\n",
    "]\n",
    "ys = [1.0, -1.0, -1.0, 1.0] # desired targets"
   ]
  },
  {
   "cell_type": "code",
   "execution_count": 6,
   "metadata": {
    "colab": {
     "base_uri": "https://localhost:8080/"
    },
    "id": "OuCTaTB8n5l0",
    "outputId": "596960ad-8414-4946-f0a8-e14c09e55160"
   },
   "outputs": [
    {
     "name": "stdout",
     "output_type": "stream",
     "text": [
      "step 0 loss 1889.0, accuracy 0.0%\n",
      "step 400 loss 0.8491560611586679, accuracy 0.0%\n",
      "step 800 loss 0.5598632663471556, accuracy 25.0%\n",
      "step 1200 loss 0.13218400504446332, accuracy 75.0%\n",
      "step 1600 loss 0.05611870318542738, accuracy 100.0%\n"
     ]
    }
   ],
   "source": [
    "history = []\n",
    "for k in range(2_000):\n",
    "\n",
    "    # forward\n",
    "    out = [model(x) for x in xs]\n",
    "\n",
    "    # calculate loss (mean square error)\n",
    "    acc = 0\n",
    "    total_loss = 0\n",
    "    for y_pred, y_true in zip(out, ys):\n",
    "        total_loss += (y_pred - y_true) ** 2\n",
    "        acc += round(y_pred.data) == y_true\n",
    "    total_loss = total_loss / len(ys)\n",
    "    acc = acc / len(ys)\n",
    "    history.append(total_loss.data)\n",
    "    \n",
    "    # backward (zero_grad + backward)\n",
    "    model.zero_grad()\n",
    "    total_loss.backward()\n",
    "    \n",
    "    # update\n",
    "    learning_rate = 0.001\n",
    "    for p in model.parameters():\n",
    "        p.data = p.data - learning_rate * p.grad\n",
    "    \n",
    "    \n",
    "    if (k + 1) % 400 == 0:\n",
    "        print(f\"step {k} loss {total_loss.data}, accuracy {acc*100}%\")"
   ]
  },
  {
   "cell_type": "code",
   "execution_count": 11,
   "metadata": {
    "colab": {
     "base_uri": "https://localhost:8080/",
     "height": 281
    },
    "id": "bdUspbivGbDS",
    "outputId": "d3ff9ab1-5c3b-422f-fa78-556d8bf35116"
   },
   "outputs": [
    {
     "data": {
      "image/png": "[encoded data removed]",
      "text/plain": [
       "<Figure size 640x480 with 1 Axes>"
      ]
     },
     "metadata": {},
     "output_type": "display_data"
    }
   ],
   "source": [
    "plt.title(\"log(loss)\")\n",
    "plt.plot(range(len(history)), [np.log(h) for h in history])\n",
    "plt.show()"
   ]
  },
  {
   "cell_type": "markdown",
   "metadata": {
    "id": "n4maaWL5yg-f"
   },
   "source": [
    "# Домашнее задание"
   ]
  },
  {
   "cell_type": "code",
   "execution_count": 1,
   "metadata": {},
   "outputs": [],
   "source": [
    "def show_tensor_params(*tensors):\n",
    "    for x in tensors:\n",
    "        print('---')\n",
    "        print(f\"data - {x.data}\")\n",
    "        print(f\"grad - {x.grad}\")\n",
    "        print(f\"grad_fn - {x.grad_fn}\")\n",
    "        print(f\"req_grad - {x.requires_grad}\")\n",
    "        print(f\"is_leaf - {x.is_leaf}\")"
   ]
  },
  {
   "cell_type": "markdown",
   "metadata": {
    "id": "2yyK39RYo084"
   },
   "source": [
    "**Домашнее задание 1.** Доделать практику. Оформить код в три отдельных модуля `autograd`, `nn`, `train`"
   ]
  },
  {
   "cell_type": "markdown",
   "metadata": {
    "id": "FdzPyQ-hylKH"
   },
   "source": [
    "**Домашнее задание 2 (Опционально).** Создать свою функцию softmax, наследуемую от `torch.autograd.Function` и имплементировать forward и backward проход. Сравнить со стандартной функцией в Pytorch. \n",
    "[Создание функций](https://pytorch.org/tutorials/beginner/examples_autograd/two_layer_net_custom_function.html) [Софтмакс](https://congyuzhou.medium.com/softmax-3408fb42d55a)"
   ]
  },
  {
   "cell_type": "code",
   "execution_count": 2,
   "metadata": {
    "id": "bGMpj9Pf61n2"
   },
   "outputs": [],
   "source": [
    "import torch\n",
    "from framework.autograd import Softmax\n",
    "from torch import softmax"
   ]
  },
  {
   "cell_type": "code",
   "execution_count": 3,
   "metadata": {
    "scrolled": true
   },
   "outputs": [
    {
     "name": "stdout",
     "output_type": "stream",
     "text": [
      "IS my softmax the same as torch's? True\n",
      "---\n",
      "data - tensor([4.1978e-02, 8.4315e-01, 7.6885e-04, 1.1411e-01])\n",
      "grad - None\n",
      "grad_fn - <torch.autograd.function.SoftmaxBackward object at 0x000002272B1B6AC0>\n",
      "req_grad - True\n",
      "is_leaf - False\n",
      "---\n",
      "data - tensor([ 1.,  4., -3.,  2.])\n",
      "grad - tensor([3.5243e-03, 1.4218e+00, 1.1823e-06, 2.6041e-02])\n",
      "grad_fn - None\n",
      "req_grad - True\n",
      "is_leaf - True\n"
     ]
    },
    {
     "name": "stderr",
     "output_type": "stream",
     "text": [
      "C:\\Users\\Professional\\anaconda3\\lib\\site-packages\\torch\\_tensor.py:1083: UserWarning: The .grad attribute of a Tensor that is not a leaf Tensor is being accessed. Its .grad attribute won't be populated during autograd.backward(). If you indeed want the .grad field to be populated for a non-leaf Tensor, use .retain_grad() on the non-leaf Tensor. If you access the non-leaf Tensor by mistake, make sure you access the leaf Tensor instead. See github.com/pytorch/pytorch/pull/30531 for more informations. (Triggered internally at  C:\\cb\\pytorch_1000000000000\\work\\build\\aten\\src\\ATen/core/TensorBody.h:482.)\n",
      "  return self._grad\n"
     ]
    }
   ],
   "source": [
    "# Use it by calling the apply method\n",
    "input = torch.tensor([1.0, 4.0, -3.0, 2.0], requires_grad=True)\n",
    "output = Softmax.apply(input)\n",
    "output_torch = softmax(input, 0)\n",
    "output\n",
    "print(\"IS my softmax the same as torch's?\", torch.allclose(output, output_torch))\n",
    "\n",
    "res = sum(output**2)\n",
    "res.backward()\n",
    "show_tensor_params(output)\n",
    "show_tensor_params(input)"
   ]
  },
  {
   "cell_type": "markdown",
   "metadata": {
    "id": "3VPpRO6H6SHF"
   },
   "source": [
    "**Домашнее задание 3 (Опционально).** Добавить функцию софтмакс в собственну библиотеку автоматического дифференцирования. Сравнить с пунктом 2"
   ]
  },
  {
   "cell_type": "code",
   "execution_count": 4,
   "metadata": {
    "id": "2YJfxtqSphFs"
   },
   "outputs": [
    {
     "name": "stdout",
     "output_type": "stream",
     "text": [
      "Value(data=tensor([2.7183e+00, 5.4598e+01, 4.9787e-02, 7.3891e+00],\n",
      "       grad_fn=<ExpBackward0>), grad=0)\n",
      "IS my softmax the same as torch's? True\n"
     ]
    }
   ],
   "source": [
    "from framework.nn import autoSoftmax\n",
    "from framework.autograd import Value\n",
    "\n",
    "input = torch.tensor([1.0, 4.0, -3.0, 2.0], requires_grad=True)\n",
    "input_val = Value(input)\n",
    "output = autoSoftmax(input_val)\n",
    "output_torch = softmax(input, 0)\n",
    "print(\"IS my softmax the same as torch's?\", torch.allclose(output.data, output_torch))\n",
    "\n",
    "res = sum(output**2)\n",
    "res.backward()\n",
    "show_tensor_params(output)\n",
    "show_tensor_params(input)"
   ]
  },
  {
   "cell_type": "code",
   "execution_count": null,
   "metadata": {},
   "outputs": [],
   "source": []
  },
  {
   "cell_type": "markdown",
   "metadata": {
    "id": "nRRgw0HNsr_a"
   },
   "source": [
    "**Домашнее задание 4 (Опционально).** Добавить визуализацию обучения. Потом мы пройдем более подробно."
   ]
  },
  {
   "cell_type": "markdown",
   "metadata": {
    "id": "W5AWW52REfn5"
   },
   "source": [
    "https://docs.wandb.ai/guides/integrations/pytorch"
   ]
  },
  {
   "cell_type": "markdown",
   "metadata": {
    "id": "ekFfy3cWVOIW"
   },
   "source": [
    "https://docs.wandb.ai/ref/python/watch  "
   ]
  },
  {
   "cell_type": "markdown",
   "metadata": {
    "id": "9G4SOp28ok0o"
   },
   "source": [
    "https://docs.wandb.ai/guides/track/jupyter"
   ]
  },
  {
   "cell_type": "code",
   "execution_count": null,
   "metadata": {
    "id": "lumiR8oykL04"
   },
   "outputs": [],
   "source": [
    "!pip install wandb"
   ]
  },
  {
   "cell_type": "code",
   "execution_count": null,
   "metadata": {
    "id": "Xw3c6P7BkP9b"
   },
   "outputs": [],
   "source": [
    "!wandb login"
   ]
  },
  {
   "cell_type": "code",
   "execution_count": null,
   "metadata": {
    "id": "udPv0ufwkxOv"
   },
   "outputs": [],
   "source": [
    "import wandb\n",
    "run = wandb.init(project=\"polynom_learning_\")"
   ]
  },
  {
   "cell_type": "code",
   "execution_count": null,
   "metadata": {
    "id": "Xtpc9MAUodNs"
   },
   "outputs": [],
   "source": [
    "run.finish()"
   ]
  }
 ],
 "metadata": {
  "colab": {
   "collapsed_sections": [
    "MRuSrP7JQ00i",
    "1b95Z8u7Q3OL"
   ],
   "provenance": []
  },
  "gpuClass": "standard",
  "kernelspec": {
   "display_name": "Python 3 (ipykernel)",
   "language": "python",
   "name": "python3"
  },
  "language_info": {
   "codemirror_mode": {
    "name": "ipython",
    "version": 3
   },
   "file_extension": ".py",
   "mimetype": "text/x-python",
   "name": "python",
   "nbconvert_exporter": "python",
   "pygments_lexer": "ipython3",
   "version": "3.9.13"
  }
 },
 "nbformat": 4,
 "nbformat_minor": 1
}
